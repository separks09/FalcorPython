{
 "cells": [
  {
   "cell_type": "code",
   "execution_count": 1,
   "metadata": {},
   "outputs": [],
   "source": [
    "# Dependencies\n",
    "import tweepy\n",
    "import json\n",
    "import numpy as np\n",
    "\n",
    "from config import consumer_key, consumer_secret, access_token, access_token_secret"
   ]
  },
  {
   "cell_type": "code",
   "execution_count": 2,
   "metadata": {},
   "outputs": [],
   "source": [
    "# Import and Initialize Sentiment Analyzer\n",
    "from vaderSentiment.vaderSentiment import SentimentIntensityAnalyzer\n",
    "analyzer = SentimentIntensityAnalyzer()"
   ]
  },
  {
   "cell_type": "code",
   "execution_count": 3,
   "metadata": {},
   "outputs": [],
   "source": [
    "# Setup Tweepy API Authentication\n",
    "auth = tweepy.OAuthHandler(consumer_key, consumer_secret)\n",
    "auth.set_access_token(access_token, access_token_secret)\n",
    "api = tweepy.API(auth)"
   ]
  },
  {
   "cell_type": "code",
   "execution_count": 4,
   "metadata": {},
   "outputs": [
    {
     "name": "stdout",
     "output_type": "stream",
     "text": [
      "\n",
      "Phrase: #bigfoot\n",
      "Compound: -0.11106\n",
      "Positive: 0.00735\n",
      "Neutral: 0.9263999999999999\n",
      "Negative: 0.06625\n",
      "\n",
      "Phrase: #sasquatch\n",
      "Compound: 0.08222500000000002\n",
      "Positive: 0.06319999999999999\n",
      "Neutral: 0.91185\n",
      "Negative: 0.02495\n",
      "\n",
      "Phrase: #ufo\n",
      "Compound: 0.005625\n",
      "Positive: 0.02275\n",
      "Neutral: 0.9587000000000001\n",
      "Negative: 0.01855\n"
     ]
    }
   ],
   "source": [
    "# Target hashtags\n",
    "target_tags = [\"#bigfoot\", \"#sasquatch\", \"#ufo\"]\n",
    "\n",
    "# Loop through timelines to find mentions\n",
    "for tag in target_tags:\n",
    "\n",
    "    # Variables for holding sentiments\n",
    "    compound_list = []\n",
    "    positive_list = []\n",
    "    negative_list = []\n",
    "    neutral_list = []\n",
    "\n",
    "    # Loop through the first 20 pages\n",
    "    for page in tweepy.Cursor(api.search, tag).pages(20):\n",
    "\n",
    "        # Get all tweets from home feed\n",
    "        page = page[0]\n",
    "        tweet = json.dumps(page._json, indent=3)\n",
    "        tweet = json.loads(tweet)\n",
    "        text = tweet['text']\n",
    "\n",
    "        # Run Vader Analysis on each tweet\n",
    "        compound = analyzer.polarity_scores(text)[\"compound\"]\n",
    "        pos = analyzer.polarity_scores(text)[\"pos\"]\n",
    "        neu = analyzer.polarity_scores(text)[\"neu\"]\n",
    "        neg = analyzer.polarity_scores(text)[\"neg\"]\n",
    "\n",
    "        # Add each value to the appropriate array\n",
    "        compound_list.append(compound)\n",
    "        positive_list.append(pos)\n",
    "        negative_list.append(neg)\n",
    "        neutral_list.append(neu)\n",
    "\n",
    "    # Print the Averages for each user\n",
    "    print(\"\")\n",
    "    print(\"Phrase: %s\" % tag)\n",
    "    print(\"Compound: %s\" % np.mean(compound_list))\n",
    "    print(\"Positive: %s\" % np.mean(positive_list))\n",
    "    print(\"Neutral: %s\" % np.mean(neutral_list))\n",
    "    print(\"Negative: %s\" % np.mean(negative_list))\n"
   ]
  }
 ],
 "metadata": {
  "kernelspec": {
   "display_name": "Python 3",
   "language": "python",
   "name": "python3"
  },
  "language_info": {
   "codemirror_mode": {
    "name": "ipython",
    "version": 3
   },
   "file_extension": ".py",
   "mimetype": "text/x-python",
   "name": "python",
   "nbconvert_exporter": "python",
   "pygments_lexer": "ipython3",
   "version": "3.6.4"
  }
 },
 "nbformat": 4,
 "nbformat_minor": 2
}
