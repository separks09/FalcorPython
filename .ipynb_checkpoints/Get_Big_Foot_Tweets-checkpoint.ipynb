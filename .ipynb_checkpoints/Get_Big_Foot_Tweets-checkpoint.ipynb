{
 "cells": [
  {
   "cell_type": "code",
   "execution_count": 28,
   "metadata": {},
   "outputs": [],
   "source": [
    "# Dependencies\n",
    "import pandas as pd\n",
    "import numpy as np\n",
    "import tweepy\n",
    "import json\n",
    "from pprint import pprint\n",
    "\n",
    "from config import consumer_key, consumer_secret, access_token, access_token_secret"
   ]
  },
  {
   "cell_type": "code",
   "execution_count": 39,
   "metadata": {},
   "outputs": [],
   "source": [
    "# Define variable for search method\n",
    "def get_tweets(list_of_tweets, bigfoot, num_of_tweets):\n",
    "    \n",
    "    # Setup Tweepy API Authentication\n",
    "    auth = tweepy.OAuthHandler(consumer_key, consumer_secret)\n",
    "    auth.set_access_token(access_token, access_token_secret)\n",
    "    api = tweepy.API(auth, parser=tweepy.parsers.JSONParser())\n",
    "    \n",
    "    # Iterate through all tweets based on the key searh word\n",
    "    for tweet in tweepy.Cursor(api.search, q=keyword).items(num_of_tweets):\n",
    "        \n",
    "        # Add tweets to a dictionary\n",
    "        dict_ = {'Screen Name': tweet.user.screen_name,\n",
    "                'User Name': tweet.user.name,\n",
    "                'Tweet Created At': unicode(tweet.created_at),\n",
    "                'Tweet Text': tweet.text,\n",
    "                'User Location': unicode(tweet.user.location),\n",
    "                'Tweet Coordindates': unicode(tweet.coordinates),\n",
    "                'Retweet Count': unicode(tweet.retweet_count),\n",
    "                'Favorite Count': unicode(tweet.favorite_count),\n",
    "                }\n",
    "        list_of_tweets.append(dict_)\n",
    "        \n",
    "    return list_of_tweets\n",
    "\n",
    "#print(get_tweets)"
   ]
  }
 ],
 "metadata": {
  "kernelspec": {
   "display_name": "Python 3",
   "language": "python",
   "name": "python3"
  },
  "language_info": {
   "codemirror_mode": {
    "name": "ipython",
    "version": 3
   },
   "file_extension": ".py",
   "mimetype": "text/x-python",
   "name": "python",
   "nbconvert_exporter": "python",
   "pygments_lexer": "ipython3",
   "version": "3.6.4"
  }
 },
 "nbformat": 4,
 "nbformat_minor": 2
}
