{
 "cells": [
  {
   "cell_type": "code",
   "execution_count": 2,
   "metadata": {},
   "outputs": [],
   "source": [
    "# Dependencies\n",
    "import pandas as pd\n",
    "import numpy as np\n",
    "import requests\n",
    "import json\n",
    "\n",
    "# Google API Key\n",
    "from configure import g_code_key"
   ]
  },
  {
   "cell_type": "code",
   "execution_count": 3,
   "metadata": {},
   "outputs": [
    {
     "data": {
      "text/html": [
       "<div>\n",
       "<style scoped>\n",
       "    .dataframe tbody tr th:only-of-type {\n",
       "        vertical-align: middle;\n",
       "    }\n",
       "\n",
       "    .dataframe tbody tr th {\n",
       "        vertical-align: top;\n",
       "    }\n",
       "\n",
       "    .dataframe thead th {\n",
       "        text-align: right;\n",
       "    }\n",
       "</style>\n",
       "<table border=\"1\" class=\"dataframe\">\n",
       "  <thead>\n",
       "    <tr style=\"text-align: right;\">\n",
       "      <th></th>\n",
       "      <th>number</th>\n",
       "      <th>title</th>\n",
       "      <th>classification</th>\n",
       "      <th>timestamp</th>\n",
       "      <th>latitude</th>\n",
       "      <th>longitude</th>\n",
       "    </tr>\n",
       "  </thead>\n",
       "  <tbody>\n",
       "    <tr>\n",
       "      <th>0</th>\n",
       "      <td>637</td>\n",
       "      <td>Report 637: Campers' encounter just after dark...</td>\n",
       "      <td>Class A</td>\n",
       "      <td>2000-06-16T12:00:00Z</td>\n",
       "      <td>61.5000</td>\n",
       "      <td>-142.9000</td>\n",
       "    </tr>\n",
       "    <tr>\n",
       "      <th>1</th>\n",
       "      <td>2917</td>\n",
       "      <td>Report 2917: Family observes large biped from car</td>\n",
       "      <td>Class A</td>\n",
       "      <td>1995-05-15T12:00:00Z</td>\n",
       "      <td>55.1872</td>\n",
       "      <td>-132.7982</td>\n",
       "    </tr>\n",
       "    <tr>\n",
       "      <th>2</th>\n",
       "      <td>7963</td>\n",
       "      <td>Report 7963: Sasquatch walks past window of ho...</td>\n",
       "      <td>Class A</td>\n",
       "      <td>2004-02-09T12:00:00Z</td>\n",
       "      <td>55.2035</td>\n",
       "      <td>-132.8202</td>\n",
       "    </tr>\n",
       "    <tr>\n",
       "      <th>3</th>\n",
       "      <td>9317</td>\n",
       "      <td>Report 9317: Driver on Alcan Highway has noon,...</td>\n",
       "      <td>Class A</td>\n",
       "      <td>2004-06-18T12:00:00Z</td>\n",
       "      <td>62.9375</td>\n",
       "      <td>-141.5667</td>\n",
       "    </tr>\n",
       "    <tr>\n",
       "      <th>4</th>\n",
       "      <td>13038</td>\n",
       "      <td>Report 13038: Snowmobiler has encounter in dee...</td>\n",
       "      <td>Class A</td>\n",
       "      <td>2004-02-15T12:00:00Z</td>\n",
       "      <td>61.0595</td>\n",
       "      <td>-149.7853</td>\n",
       "    </tr>\n",
       "  </tbody>\n",
       "</table>\n",
       "</div>"
      ],
      "text/plain": [
       "   number                                              title classification  \\\n",
       "0     637  Report 637: Campers' encounter just after dark...        Class A   \n",
       "1    2917  Report 2917: Family observes large biped from car        Class A   \n",
       "2    7963  Report 7963: Sasquatch walks past window of ho...        Class A   \n",
       "3    9317  Report 9317: Driver on Alcan Highway has noon,...        Class A   \n",
       "4   13038  Report 13038: Snowmobiler has encounter in dee...        Class A   \n",
       "\n",
       "              timestamp  latitude  longitude  \n",
       "0  2000-06-16T12:00:00Z   61.5000  -142.9000  \n",
       "1  1995-05-15T12:00:00Z   55.1872  -132.7982  \n",
       "2  2004-02-09T12:00:00Z   55.2035  -132.8202  \n",
       "3  2004-06-18T12:00:00Z   62.9375  -141.5667  \n",
       "4  2004-02-15T12:00:00Z   61.0595  -149.7853  "
      ]
     },
     "execution_count": 3,
     "metadata": {},
     "output_type": "execute_result"
    }
   ],
   "source": [
    "# Import file as DataFrame\n",
    "cities_pd = pd.read_csv(\"bfro_report_locations.csv\")\n",
    "cities_pd.head()"
   ]
  },
  {
   "cell_type": "code",
   "execution_count": null,
   "metadata": {},
   "outputs": [],
   "source": []
  }
 ],
 "metadata": {
  "kernelspec": {
   "display_name": "Python 3",
   "language": "python",
   "name": "python3"
  },
  "language_info": {
   "codemirror_mode": {
    "name": "ipython",
    "version": 3
   },
   "file_extension": ".py",
   "mimetype": "text/x-python",
   "name": "python",
   "nbconvert_exporter": "python",
   "pygments_lexer": "ipython3",
   "version": "3.6.4"
  }
 },
 "nbformat": 4,
 "nbformat_minor": 2
}
