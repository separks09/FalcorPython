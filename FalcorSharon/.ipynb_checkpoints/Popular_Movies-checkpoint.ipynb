{
 "cells": [
  {
   "cell_type": "code",
   "execution_count": 49,
   "metadata": {},
   "outputs": [],
   "source": [
    "import pandas as pd\n",
    "import json\n",
    "import requests\n",
    "import matplotlib.pyplot as plt\n",
    "import seaborn as sns\n",
    "import numpy as np"
   ]
  },
  {
   "cell_type": "code",
   "execution_count": 44,
   "metadata": {},
   "outputs": [],
   "source": [
    "titles = []\n",
    "release_dates = []\n",
    "posters = []\n",
    "overview = []\n",
    "\n",
    "for x in range(40):\n",
    "    url = \"https://api.themoviedb.org/3/discover/movie?primary_release_date.gte=1930-01-01&primary_release_date.lte=2018-01-01&certification_country=US&with_genres=27&with_genres=878&sort_by=popularity.desc&page=\"+str(x+1)+\"&api_key=b81331a15f121fe89d8ab64aae1313b6\"\n",
    "    response = requests.get(url)\n",
    "    data = response.json() \n",
    "    for y in range(len(data)):\n",
    "        titles.append(data[\"results\"][y][\"title\"])\n",
    "        release_dates.append(data[\"results\"][y][\"release_date\"])\n",
    "        posters.append(data[\"results\"][y][\"poster_path\"])\n",
    "        overview.append(data[\"results\"][y][\"overview\"])"
   ]
  },
  {
   "cell_type": "code",
   "execution_count": 45,
   "metadata": {},
   "outputs": [],
   "source": [
    "years = []\n",
    "months = []\n",
    "for x in range(len(release_dates)):\n",
    "    y = release_dates[x]\n",
    "    year = y.split(\"-\")[0]\n",
    "    month = y.split(\"-\")[1]\n",
    "    years.append(year)\n",
    "    months.append(month)\n"
   ]
  },
  {
   "cell_type": "code",
   "execution_count": 46,
   "metadata": {},
   "outputs": [
    {
     "data": {
      "text/html": [
       "<div>\n",
       "<style scoped>\n",
       "    .dataframe tbody tr th:only-of-type {\n",
       "        vertical-align: middle;\n",
       "    }\n",
       "\n",
       "    .dataframe tbody tr th {\n",
       "        vertical-align: top;\n",
       "    }\n",
       "\n",
       "    .dataframe thead th {\n",
       "        text-align: right;\n",
       "    }\n",
       "</style>\n",
       "<table border=\"1\" class=\"dataframe\">\n",
       "  <thead>\n",
       "    <tr style=\"text-align: right;\">\n",
       "      <th></th>\n",
       "      <th>Month</th>\n",
       "      <th>Overview</th>\n",
       "      <th>Poster Path</th>\n",
       "      <th>Titles</th>\n",
       "      <th>Year</th>\n",
       "    </tr>\n",
       "  </thead>\n",
       "  <tbody>\n",
       "    <tr>\n",
       "      <th>0</th>\n",
       "      <td>12</td>\n",
       "      <td>Rey develops her newly discovered abilities wi...</td>\n",
       "      <td>/kOVEVeg59E0wsnXmF9nrh6OmWII.jpg</td>\n",
       "      <td>Star Wars: The Last Jedi</td>\n",
       "      <td>2017</td>\n",
       "    </tr>\n",
       "    <tr>\n",
       "      <th>1</th>\n",
       "      <td>11</td>\n",
       "      <td>Fuelled by his restored faith in humanity and ...</td>\n",
       "      <td>/eifGNCSDuxJeS1loAXil5bIGgvC.jpg</td>\n",
       "      <td>Justice League</td>\n",
       "      <td>2017</td>\n",
       "    </tr>\n",
       "    <tr>\n",
       "      <th>2</th>\n",
       "      <td>04</td>\n",
       "      <td>A young street magician is left to take care o...</td>\n",
       "      <td>/wridRvGxDqGldhzAIh3IcZhHT5F.jpg</td>\n",
       "      <td>Sleight</td>\n",
       "      <td>2017</td>\n",
       "    </tr>\n",
       "    <tr>\n",
       "      <th>3</th>\n",
       "      <td>09</td>\n",
       "      <td>Set in a post-apocalyptic world, young Thomas ...</td>\n",
       "      <td>/coss7RgL0NH6g4fC2s5atvf3dFO.jpg</td>\n",
       "      <td>The Maze Runner</td>\n",
       "      <td>2014</td>\n",
       "    </tr>\n",
       "    <tr>\n",
       "      <th>4</th>\n",
       "      <td>03</td>\n",
       "      <td>Beatrice Prior must confront her inner demons ...</td>\n",
       "      <td>/6w1VjTPTjTaA5oNvsAg0y4H6bou.jpg</td>\n",
       "      <td>Insurgent</td>\n",
       "      <td>2015</td>\n",
       "    </tr>\n",
       "  </tbody>\n",
       "</table>\n",
       "</div>"
      ],
      "text/plain": [
       "  Month                                           Overview  \\\n",
       "0    12  Rey develops her newly discovered abilities wi...   \n",
       "1    11  Fuelled by his restored faith in humanity and ...   \n",
       "2    04  A young street magician is left to take care o...   \n",
       "3    09  Set in a post-apocalyptic world, young Thomas ...   \n",
       "4    03  Beatrice Prior must confront her inner demons ...   \n",
       "\n",
       "                        Poster Path                    Titles  Year  \n",
       "0  /kOVEVeg59E0wsnXmF9nrh6OmWII.jpg  Star Wars: The Last Jedi  2017  \n",
       "1  /eifGNCSDuxJeS1loAXil5bIGgvC.jpg            Justice League  2017  \n",
       "2  /wridRvGxDqGldhzAIh3IcZhHT5F.jpg                   Sleight  2017  \n",
       "3  /coss7RgL0NH6g4fC2s5atvf3dFO.jpg           The Maze Runner  2014  \n",
       "4  /6w1VjTPTjTaA5oNvsAg0y4H6bou.jpg                 Insurgent  2015  "
      ]
     },
     "execution_count": 46,
     "metadata": {},
     "output_type": "execute_result"
    }
   ],
   "source": [
    "movie_data = {\n",
    "    \"Titles\":titles,\n",
    "    \"Year\":years,\n",
    "    \"Month\": months,\n",
    "    \"Poster Path\":posters,\n",
    "    \"Overview\":overview\n",
    "}\n",
    "\n",
    "movie_df = pd.DataFrame(data=movie_data)\n",
    "movie_df.head()"
   ]
  },
  {
   "cell_type": "code",
   "execution_count": 47,
   "metadata": {},
   "outputs": [],
   "source": [
    "movie_df.to_csv(\"movies.csv\")"
   ]
  },
  {
   "cell_type": "code",
   "execution_count": null,
   "metadata": {},
   "outputs": [],
   "source": []
  }
 ],
 "metadata": {
  "kernelspec": {
   "display_name": "Python 3",
   "language": "python",
   "name": "python3"
  },
  "language_info": {
   "codemirror_mode": {
    "name": "ipython",
    "version": 3
   },
   "file_extension": ".py",
   "mimetype": "text/x-python",
   "name": "python",
   "nbconvert_exporter": "python",
   "pygments_lexer": "ipython3",
   "version": "3.6.4"
  }
 },
 "nbformat": 4,
 "nbformat_minor": 2
}
