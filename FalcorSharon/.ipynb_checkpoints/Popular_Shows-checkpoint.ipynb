{
 "cells": [
  {
   "cell_type": "code",
   "execution_count": 1,
   "metadata": {},
   "outputs": [],
   "source": [
    "import pandas as pd\n",
    "import json\n",
    "import requests\n",
    "from confif import api_key"
   ]
  },
  {
   "cell_type": "code",
   "execution_count": 17,
   "metadata": {},
   "outputs": [
    {
     "name": "stdout",
     "output_type": "stream",
     "text": [
      "{\n",
      "    \"page\": 1,\n",
      "    \"results\": [\n",
      "        {\n",
      "            \"backdrop_path\": \"/jfY71rhRmEwTa5TBQhiEn4wUMA6.jpg\",\n",
      "            \"first_air_date\": \"1995-03-26\",\n",
      "            \"genre_ids\": [\n",
      "                18,\n",
      "                27,\n",
      "                9648,\n",
      "                878,\n",
      "                53\n",
      "            ],\n",
      "            \"id\": 21561,\n",
      "            \"name\": \"The Outer Limits\",\n",
      "            \"origin_country\": [\n",
      "                \"US\",\n",
      "                \"CA\"\n",
      "            ],\n",
      "            \"original_language\": \"en\",\n",
      "            \"original_name\": \"The Outer Limits\",\n",
      "            \"overview\": \"The Outer Limits is a US-Canadian television series that originally aired on Showtime, the Sci Fi Channel and in syndication between 1995 and 2002. The series is a revival of the original The Outer Limits series that aired in the 1960s.\\n\\nDistinct from The Twilight Zone in that the stories were science fiction based only, and not fantasy/science fiction as was the case with The Twilight Zone, The Outer Limits is an anthology of distinct story episodes, sometimes with a plot twist at the end. Unlike the original incarnation of the series, which was a pure anthology with each episode completely unrelated to the others, the revival series maintained an anthology format, but occasionally featured recurring story elements that were often tied together during season-finale clip shows. Over the course of the series, 154 episodes were aired. Currently, the Chiller network airs two episodes daily starting at 6 a.m. U.S. Eastern time and also airs multiple episode blocks on an infrequent basis.\",\n",
      "            \"popularity\": 5.820703,\n",
      "            \"poster_path\": \"/izWip8IQOGJC50BUvq87DhgkgwS.jpg\",\n",
      "            \"vote_average\": 7.7,\n",
      "            \"vote_count\": 54\n",
      "        },\n",
      "        {\n",
      "            \"backdrop_path\": null,\n",
      "            \"first_air_date\": \"2013-11-02\",\n",
      "            \"genre_ids\": [\n",
      "                27,\n",
      "                878,\n",
      "                53\n",
      "            ],\n",
      "            \"id\": 64336,\n",
      "            \"name\": \"\\u041f\\u043e\\u0433\\u0440\\u0443\\u0436\\u0435\\u043d\\u0438\\u0435\",\n",
      "            \"origin_country\": [\n",
      "                \"RU\"\n",
      "            ],\n",
      "            \"original_language\": \"ru\",\n",
      "            \"original_name\": \"\\u041f\\u043e\\u0433\\u0440\\u0443\\u0436\\u0435\\u043d\\u0438\\u0435\",\n",
      "            \"overview\": \"\",\n",
      "            \"popularity\": 0.163198,\n",
      "            \"poster_path\": \"/6jY3JO5LPsgsbHVx24VKbLzMS0y.jpg\",\n",
      "            \"vote_average\": 1,\n",
      "            \"vote_count\": 1\n",
      "        }\n",
      "    ],\n",
      "    \"total_pages\": 1,\n",
      "    \"total_results\": 2\n",
      "}\n"
     ]
    }
   ],
   "source": [
    "url = \"https://api.themoviedb.org/3/discover/tv?primary_release_date.gte=1980-01-01&primary_release_date.lte=2018-01-01&certification_country=US&with_genres=27,878&sort_by=popularity.desc&total_results=40&api_key=\"+api_key\n",
    "#url = \"https://api.themoviedb.org/3/movie/550?api_key=b81331a15f121fe89d8ab64aae1313b6\"\n",
    "response = requests.get(url)\n",
    "data = response.json() \n",
    "print(json.dumps(data, indent=4, sort_keys=True))"
   ]
  },
  {
   "cell_type": "code",
   "execution_count": 28,
   "metadata": {},
   "outputs": [
    {
     "name": "stdout",
     "output_type": "stream",
     "text": [
      "[35, 18, 18, '', 80, 35, 28, 35, 28, 80, 80, 18, 18, 35, 18, 35, 18, 80, 35, 18, 18, 18, 18, 80, 80, 10759, 18, 18, 18, 18, 16, 16, 18, 18, 16, 18, 35, 35, 18, 80, 35, 35, 16, 18, 80, 18, 35, 18, 28, 10764, 16, 35, 80, 35, 35, 80, 35, 35, 16, 80, 18, 18, 10764, 99, 16, 18, 80, 16, 16, 10759, 18, 10764, 35, 18, 18, 16, 99, 35, 99, 80, 80, 18, 18, 35, 16, 18, 16, 18, 99, 18, 35, 18, 35, 16, 80, 80, 16, 18, 35, 28, 18, 18, 18, 35, 10763, 16, 18, 18, 9648, 18, 10764, 18, 10764, 18, 16, 35, 18, 80, 18, 16, 35, 18, 35, 80, 18, '', 80, 80, 16, 18, 28, 16, 16, 16, 37, 10764, 35, 35, 80, 18, 18, 16, 99, 35, 10759, 10764, 16, 18, 18, 18, 35, 35, 80, 99, 18, 10764, 80, 35, 16, 18]\n",
      "['', 10759, 9648, '', 18, '', 80, '', 80, 18, 18, 10766, 9648, '', 9648, '', '', 18, 18, 10765, 9648, 9648, '', 18, 18, 10765, '', 10759, 10765, 10402, 35, 10751, '', 10759, 35, 10768, 10764, 10767, 10759, 9648, '', '', 10759, 10759, 18, '', 18, 9648, 12, '', 35, '', 10759, 10751, 18, 10759, '', '', 35, 18, 10765, 10759, '', '', 35, 10759, 18, 10751, 10765, 10765, 9648, '', 10751, 10765, 9648, 10751, 10764, 10764, 18, 18, 18, '', '', '', 35, 10766, 10759, 10765, 9648, 10764, '', 9648, '', 35, 18, 18, 35, 878, 18, 12, 37, '', 10765, '', '', 35, 10759, '', 10759, '', '', '', '', 9648, 35, 10767, 10759, 18, 9648, '', 18, 10766, 10765, 18, 10751, '', 18, 18, 35, 10759, 12, 10759, 35, 10759, '', '', 10759, '', 18, 10759, 9648, 10759, '', 18, 10765, '', 35, 9648, 10759, 37, '', 18, 18, '', 10759, '', 18, '', 10759, 9648]\n"
     ]
    }
   ],
   "source": [
    "titles = []\n",
    "release_dates = []\n",
    "posters = []\n",
    "overview = []\n",
    "genre_1 = []\n",
    "genre_2 =[]\n",
    "for x in range(60):\n",
    "    \n",
    "    url = \"https://api.themoviedb.org/3/discover/tv?api_key=\"+api_key+\"&language=en-US&sort_by=popularity.desc&page=\"+str(x+1)+\"&timezone=America%2FNew_York&include_null_first_air_dates=false\"\n",
    "    response = requests.get(url)\n",
    "    data = response.json() \n",
    "    for y in range(len(data)):\n",
    "        try:\n",
    "            titles.append(data[\"results\"][y][\"name\"])\n",
    "            release_dates.append(data[\"results\"][y][\"first_air_date\"])\n",
    "            posters.append(data[\"results\"][y][\"poster_path\"])\n",
    "            overview.append(data[\"results\"][y][\"overview\"])\n",
    "            try:\n",
    "                genre_1.append(data[\"results\"][y][\"genre_ids\"][0])\n",
    "            except:\n",
    "                genre_1.append(\"\")\n",
    "            try:\n",
    "                genre_2.append(data[\"results\"][y][\"genre_ids\"][1])\n",
    "            except:\n",
    "                genre_2.append(\"\")\n",
    "        except:\n",
    "            continue\n",
    "print(genre_1)\n",
    "print(genre_2)"
   ]
  },
  {
   "cell_type": "code",
   "execution_count": 29,
   "metadata": {},
   "outputs": [
    {
     "name": "stdout",
     "output_type": "stream",
     "text": [
      "160\n",
      "160\n",
      "160\n",
      "160\n",
      "160\n",
      "160\n"
     ]
    }
   ],
   "source": [
    "print(len(release_dates))\n",
    "print(len(titles))\n",
    "print(len(genre_1))\n",
    "print(len(genre_2))\n",
    "print(len(posters))\n",
    "print(len(overview))"
   ]
  },
  {
   "cell_type": "code",
   "execution_count": null,
   "metadata": {},
   "outputs": [],
   "source": []
  },
  {
   "cell_type": "code",
   "execution_count": 36,
   "metadata": {},
   "outputs": [
    {
     "data": {
      "text/html": [
       "<div>\n",
       "<style scoped>\n",
       "    .dataframe tbody tr th:only-of-type {\n",
       "        vertical-align: middle;\n",
       "    }\n",
       "\n",
       "    .dataframe tbody tr th {\n",
       "        vertical-align: top;\n",
       "    }\n",
       "\n",
       "    .dataframe thead th {\n",
       "        text-align: right;\n",
       "    }\n",
       "</style>\n",
       "<table border=\"1\" class=\"dataframe\">\n",
       "  <thead>\n",
       "    <tr style=\"text-align: right;\">\n",
       "      <th></th>\n",
       "      <th>Genre_1</th>\n",
       "      <th>Genre_2</th>\n",
       "      <th>Overview</th>\n",
       "      <th>Poster Path</th>\n",
       "      <th>Titles</th>\n",
       "      <th>Year</th>\n",
       "    </tr>\n",
       "  </thead>\n",
       "  <tbody>\n",
       "    <tr>\n",
       "      <th>0</th>\n",
       "      <td>35</td>\n",
       "      <td></td>\n",
       "      <td>The Big Bang Theory is centered on five charac...</td>\n",
       "      <td>/ooBGRQBdbGzBxAVfExiO8r7kloA.jpg</td>\n",
       "      <td>The Big Bang Theory</td>\n",
       "      <td>2007-09-24</td>\n",
       "    </tr>\n",
       "    <tr>\n",
       "      <th>1</th>\n",
       "      <td>18</td>\n",
       "      <td>10759</td>\n",
       "      <td>Sheriff's deputy Rick Grimes awakens from a co...</td>\n",
       "      <td>/yn7psGTZsHumHOkLUmYpyrIcA2G.jpg</td>\n",
       "      <td>The Walking Dead</td>\n",
       "      <td>2010-10-31</td>\n",
       "    </tr>\n",
       "    <tr>\n",
       "      <th>2</th>\n",
       "      <td>18</td>\n",
       "      <td>9648</td>\n",
       "      <td>When they were boys, Sam and Dean Winchester l...</td>\n",
       "      <td>/pui1V389cQft0BVFu9pbsYLEW1Q.jpg</td>\n",
       "      <td>Supernatural</td>\n",
       "      <td>2005-09-13</td>\n",
       "    </tr>\n",
       "    <tr>\n",
       "      <th>4</th>\n",
       "      <td>80</td>\n",
       "      <td>18</td>\n",
       "      <td>Raymond \"Red\" Reddington, one of the FBI's mos...</td>\n",
       "      <td>/bgbQCW4fE9b6wSOSC6Fb4FfVzsW.jpg</td>\n",
       "      <td>The Blacklist</td>\n",
       "      <td>2013-09-23</td>\n",
       "    </tr>\n",
       "    <tr>\n",
       "      <th>5</th>\n",
       "      <td>35</td>\n",
       "      <td></td>\n",
       "      <td>The misadventures of a group of friends as the...</td>\n",
       "      <td>/7buCWBTpiPrCF5Lt023dSC60rgS.jpg</td>\n",
       "      <td>Friends</td>\n",
       "      <td>1994-09-22</td>\n",
       "    </tr>\n",
       "  </tbody>\n",
       "</table>\n",
       "</div>"
      ],
      "text/plain": [
       "  Genre_1 Genre_2                                           Overview  \\\n",
       "0      35          The Big Bang Theory is centered on five charac...   \n",
       "1      18   10759  Sheriff's deputy Rick Grimes awakens from a co...   \n",
       "2      18    9648  When they were boys, Sam and Dean Winchester l...   \n",
       "4      80      18  Raymond \"Red\" Reddington, one of the FBI's mos...   \n",
       "5      35          The misadventures of a group of friends as the...   \n",
       "\n",
       "                        Poster Path               Titles        Year  \n",
       "0  /ooBGRQBdbGzBxAVfExiO8r7kloA.jpg  The Big Bang Theory  2007-09-24  \n",
       "1  /yn7psGTZsHumHOkLUmYpyrIcA2G.jpg     The Walking Dead  2010-10-31  \n",
       "2  /pui1V389cQft0BVFu9pbsYLEW1Q.jpg         Supernatural  2005-09-13  \n",
       "4  /bgbQCW4fE9b6wSOSC6Fb4FfVzsW.jpg        The Blacklist  2013-09-23  \n",
       "5  /7buCWBTpiPrCF5Lt023dSC60rgS.jpg              Friends  1994-09-22  "
      ]
     },
     "execution_count": 36,
     "metadata": {},
     "output_type": "execute_result"
    }
   ],
   "source": [
    "tv_data = {\n",
    "    \"Titles\":titles,\n",
    "    \"Year\":release_dates,\n",
    "    \"Poster Path\":posters,\n",
    "    \"Overview\":overview,\n",
    "    \"Genre_1\":genre_1,\n",
    "    \"Genre_2\":genre_2\n",
    "}\n",
    "\n",
    "tv_df = pd.DataFrame(data=tv_data)\n",
    "tv_df = tv_df.dropna(how=\"any\")\n",
    "tv_df.head()"
   ]
  },
  {
   "cell_type": "code",
   "execution_count": null,
   "metadata": {},
   "outputs": [],
   "source": [
    "##Needs mre cleaning"
   ]
  },
  {
   "cell_type": "code",
   "execution_count": 32,
   "metadata": {},
   "outputs": [
    {
     "ename": "IndexError",
     "evalue": "list index out of range",
     "output_type": "error",
     "traceback": [
      "\u001b[1;31m---------------------------------------------------------------------------\u001b[0m",
      "\u001b[1;31mIndexError\u001b[0m                                Traceback (most recent call last)",
      "\u001b[1;32m<ipython-input-32-a30a05f51014>\u001b[0m in \u001b[0;36m<module>\u001b[1;34m()\u001b[0m\n\u001b[0;32m      4\u001b[0m     \u001b[0my\u001b[0m \u001b[1;33m=\u001b[0m \u001b[0mrelease_dates\u001b[0m\u001b[1;33m[\u001b[0m\u001b[0mx\u001b[0m\u001b[1;33m]\u001b[0m\u001b[1;33m\u001b[0m\u001b[0m\n\u001b[0;32m      5\u001b[0m     \u001b[0myear\u001b[0m \u001b[1;33m=\u001b[0m \u001b[0my\u001b[0m\u001b[1;33m.\u001b[0m\u001b[0msplit\u001b[0m\u001b[1;33m(\u001b[0m\u001b[1;34m\"-\"\u001b[0m\u001b[1;33m)\u001b[0m\u001b[1;33m[\u001b[0m\u001b[1;36m0\u001b[0m\u001b[1;33m]\u001b[0m\u001b[1;33m\u001b[0m\u001b[0m\n\u001b[1;32m----> 6\u001b[1;33m     \u001b[0mmonth\u001b[0m \u001b[1;33m=\u001b[0m \u001b[0my\u001b[0m\u001b[1;33m.\u001b[0m\u001b[0msplit\u001b[0m\u001b[1;33m(\u001b[0m\u001b[1;34m\"-\"\u001b[0m\u001b[1;33m)\u001b[0m\u001b[1;33m[\u001b[0m\u001b[1;36m1\u001b[0m\u001b[1;33m]\u001b[0m\u001b[1;33m\u001b[0m\u001b[0m\n\u001b[0m\u001b[0;32m      7\u001b[0m     \u001b[0myears\u001b[0m\u001b[1;33m.\u001b[0m\u001b[0mappend\u001b[0m\u001b[1;33m(\u001b[0m\u001b[0myear\u001b[0m\u001b[1;33m)\u001b[0m\u001b[1;33m\u001b[0m\u001b[0m\n\u001b[0;32m      8\u001b[0m     \u001b[0mmonths\u001b[0m\u001b[1;33m.\u001b[0m\u001b[0mappend\u001b[0m\u001b[1;33m(\u001b[0m\u001b[0mmonth\u001b[0m\u001b[1;33m)\u001b[0m\u001b[1;33m\u001b[0m\u001b[0m\n",
      "\u001b[1;31mIndexError\u001b[0m: list index out of range"
     ]
    }
   ],
   "source": [
    "years = []\n",
    "months = []\n",
    "for x in range(len(movie_df[\"Year\"])):\n",
    "    y = release_dates[x]\n",
    "    year = y.split(\"-\")[0]\n",
    "    month = y.split(\"-\")[1]\n",
    "    years.append(year)\n",
    "    months.append(month)\n"
   ]
  },
  {
   "cell_type": "code",
   "execution_count": null,
   "metadata": {},
   "outputs": [],
   "source": []
  },
  {
   "cell_type": "code",
   "execution_count": null,
   "metadata": {},
   "outputs": [],
   "source": []
  }
 ],
 "metadata": {
  "kernelspec": {
   "display_name": "Python 3",
   "language": "python",
   "name": "python3"
  },
  "language_info": {
   "codemirror_mode": {
    "name": "ipython",
    "version": 3
   },
   "file_extension": ".py",
   "mimetype": "text/x-python",
   "name": "python",
   "nbconvert_exporter": "python",
   "pygments_lexer": "ipython3",
   "version": "3.6.4"
  }
 },
 "nbformat": 4,
 "nbformat_minor": 2
}
