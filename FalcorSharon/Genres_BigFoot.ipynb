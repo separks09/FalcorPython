{
 "cells": [
  {
   "cell_type": "code",
   "execution_count": 1,
   "metadata": {},
   "outputs": [],
   "source": [
    "%matplotlib inline\n",
    "import pandas as pd\n",
    "import json\n",
    "import requests\n",
    "import matplotlib.pyplot as plt\n",
    "from matplotlib import pylab\n",
    "import seaborn as sns\n",
    "import numpy as np\n",
    "from config import api_key"
   ]
  },
  {
   "cell_type": "code",
   "execution_count": 2,
   "metadata": {},
   "outputs": [],
   "source": [
    "titles = []\n",
    "release_dates = []\n",
    "overview = []"
   ]
  },
  {
   "cell_type": "code",
   "execution_count": 3,
   "metadata": {},
   "outputs": [],
   "source": [
    "for x in range(6):\n",
    "    url = \"https://api.themoviedb.org/3/discover/movie?&sort_by=revenue.desc&api_key=\"+api_key+\"&page=\"+str(x+1)+\"&with_keywords=2597|227007\"\n",
    "    response = requests.get(url)\n",
    "    data = response.json() \n",
    "    for y in range(len(data[\"results\"])):\n",
    "        titles.append(data[\"results\"][y][\"title\"])\n",
    "        release_dates.append(data[\"results\"][y][\"release_date\"])\n",
    "        overview.append(data[\"results\"][y][\"overview\"])"
   ]
  },
  {
   "cell_type": "code",
   "execution_count": 4,
   "metadata": {},
   "outputs": [],
   "source": [
    "url_tv = \"https://api.themoviedb.org/3/discover/tv?&api_key=\"+api_key+\"&page=\"+str(x+1)+\"&with_keywords=2597|227007\"\n",
    "response_tv = requests.get(url_tv)\n",
    "data_tv = response_tv.json() \n",
    "for x in range(len(data_tv[\"results\"])):\n",
    "    titles.append(data_tv[\"results\"][x][\"name\"])\n",
    "    release_dates.append(data_tv[\"results\"][x][\"first_air_date\"])\n",
    "    overview.append(data_tv[\"results\"][x][\"overview\"])"
   ]
  },
  {
   "cell_type": "code",
   "execution_count": 5,
   "metadata": {},
   "outputs": [],
   "source": [
    "#print(len(titles))"
   ]
  },
  {
   "cell_type": "code",
   "execution_count": 6,
   "metadata": {},
   "outputs": [],
   "source": [
    "years = []\n",
    "months = []\n",
    "for x in range(len(release_dates)):\n",
    "    try:\n",
    "        y = release_dates[x]\n",
    "        year = y.split(\"-\")[0]\n",
    "        month = y.split(\"-\")[1]\n",
    "        years.append(year)\n",
    "        months.append(month)\n",
    "    except:\n",
    "        years.append(\"\")\n",
    "        months.append(\"\")"
   ]
  },
  {
   "cell_type": "code",
   "execution_count": 7,
   "metadata": {},
   "outputs": [
    {
     "data": {
      "text/html": [
       "<div>\n",
       "<style scoped>\n",
       "    .dataframe tbody tr th:only-of-type {\n",
       "        vertical-align: middle;\n",
       "    }\n",
       "\n",
       "    .dataframe tbody tr th {\n",
       "        vertical-align: top;\n",
       "    }\n",
       "\n",
       "    .dataframe thead th {\n",
       "        text-align: right;\n",
       "    }\n",
       "</style>\n",
       "<table border=\"1\" class=\"dataframe\">\n",
       "  <thead>\n",
       "    <tr style=\"text-align: right;\">\n",
       "      <th></th>\n",
       "      <th>Month</th>\n",
       "      <th>Overview</th>\n",
       "      <th>Titles</th>\n",
       "      <th>Year</th>\n",
       "    </tr>\n",
       "  </thead>\n",
       "  <tbody>\n",
       "    <tr>\n",
       "      <th>0</th>\n",
       "      <td>06</td>\n",
       "      <td>Returning from a hunting trip in the forest, t...</td>\n",
       "      <td>Harry and the Hendersons</td>\n",
       "      <td>1987</td>\n",
       "    </tr>\n",
       "    <tr>\n",
       "      <th>1</th>\n",
       "      <td>08</td>\n",
       "      <td>A documentary-style drama based on true accoun...</td>\n",
       "      <td>The Legend of Boggy Creek</td>\n",
       "      <td>1972</td>\n",
       "    </tr>\n",
       "    <tr>\n",
       "      <th>2</th>\n",
       "      <td>02</td>\n",
       "      <td>With the ratings dropping for a wilderness-the...</td>\n",
       "      <td>Strange Wilderness</td>\n",
       "      <td>2008</td>\n",
       "    </tr>\n",
       "    <tr>\n",
       "      <th>3</th>\n",
       "      <td>06</td>\n",
       "      <td>Mark the Lumberjack is a woodsman with a bad t...</td>\n",
       "      <td>The Lumberjack of All Trades</td>\n",
       "      <td>2006</td>\n",
       "    </tr>\n",
       "    <tr>\n",
       "      <th>4</th>\n",
       "      <td>01</td>\n",
       "      <td>A documentary that explores the existence of B...</td>\n",
       "      <td>Manbeast! Myth or Monster?</td>\n",
       "      <td>1978</td>\n",
       "    </tr>\n",
       "  </tbody>\n",
       "</table>\n",
       "</div>"
      ],
      "text/plain": [
       "  Month                                           Overview  \\\n",
       "0    06  Returning from a hunting trip in the forest, t...   \n",
       "1    08  A documentary-style drama based on true accoun...   \n",
       "2    02  With the ratings dropping for a wilderness-the...   \n",
       "3    06  Mark the Lumberjack is a woodsman with a bad t...   \n",
       "4    01  A documentary that explores the existence of B...   \n",
       "\n",
       "                         Titles  Year  \n",
       "0      Harry and the Hendersons  1987  \n",
       "1     The Legend of Boggy Creek  1972  \n",
       "2            Strange Wilderness  2008  \n",
       "3  The Lumberjack of All Trades  2006  \n",
       "4    Manbeast! Myth or Monster?  1978  "
      ]
     },
     "execution_count": 7,
     "metadata": {},
     "output_type": "execute_result"
    }
   ],
   "source": [
    "movie_data = {\n",
    "    \"Titles\":titles,\n",
    "    \"Year\":years,\n",
    "    \"Month\": months,\n",
    "    \"Overview\":overview\n",
    "}\n",
    "\n",
    "movie_df = pd.DataFrame(data=movie_data)\n",
    "movie_df.head()"
   ]
  },
  {
   "cell_type": "code",
   "execution_count": 8,
   "metadata": {},
   "outputs": [],
   "source": [
    "movie_df.to_csv(\"bigfoot_movies_tv.csv\")"
   ]
  },
  {
   "cell_type": "code",
   "execution_count": 9,
   "metadata": {},
   "outputs": [],
   "source": [
    "year_df = movie_df.groupby(movie_df[\"Year\"],as_index=False)\n",
    "year_df = year_df[\"Titles\"].count()\n",
    "year_df = year_df[year_df.Year != \"\"]\n",
    "year_df[\"Year\"] = year_df[\"Year\"].astype(int)"
   ]
  },
  {
   "cell_type": "code",
   "execution_count": 10,
   "metadata": {},
   "outputs": [],
   "source": [
    "bins = [0,1959,1969,1979,1989,1999,2000,2001,2002,2003,2004,2005,2006,2007,2008,2009,2010,2011,2012,2013]\n",
    "bin_labels = [\"before 1959\",\"1960s\",\"1970s\",\"1980s\",\"1990s\",\"2000\",\"'01\",\"'02\",\"'03\",\"'04\",\"'05\",\"'06\",\"'07\",\"'08\",\"'09\",\"'10\",\"'11\",\"'12\",\"2013+\"]\n",
    "#print(len(bins))\n",
    "#print(len(bin_labels))"
   ]
  },
  {
   "cell_type": "code",
   "execution_count": 14,
   "metadata": {},
   "outputs": [
    {
     "data": {
      "text/html": [
       "<div>\n",
       "<style scoped>\n",
       "    .dataframe tbody tr th:only-of-type {\n",
       "        vertical-align: middle;\n",
       "    }\n",
       "\n",
       "    .dataframe tbody tr th {\n",
       "        vertical-align: top;\n",
       "    }\n",
       "\n",
       "    .dataframe thead th {\n",
       "        text-align: right;\n",
       "    }\n",
       "</style>\n",
       "<table border=\"1\" class=\"dataframe\">\n",
       "  <thead>\n",
       "    <tr style=\"text-align: right;\">\n",
       "      <th></th>\n",
       "      <th>Decade</th>\n",
       "      <th>Year</th>\n",
       "      <th>Titles</th>\n",
       "    </tr>\n",
       "  </thead>\n",
       "  <tbody>\n",
       "    <tr>\n",
       "      <th>0</th>\n",
       "      <td>before 1959</td>\n",
       "      <td>0</td>\n",
       "      <td>0</td>\n",
       "    </tr>\n",
       "    <tr>\n",
       "      <th>1</th>\n",
       "      <td>1960s</td>\n",
       "      <td>1968</td>\n",
       "      <td>1</td>\n",
       "    </tr>\n",
       "    <tr>\n",
       "      <th>2</th>\n",
       "      <td>1970s</td>\n",
       "      <td>13831</td>\n",
       "      <td>14</td>\n",
       "    </tr>\n",
       "    <tr>\n",
       "      <th>3</th>\n",
       "      <td>1980s</td>\n",
       "      <td>7939</td>\n",
       "      <td>5</td>\n",
       "    </tr>\n",
       "    <tr>\n",
       "      <th>4</th>\n",
       "      <td>1990s</td>\n",
       "      <td>7985</td>\n",
       "      <td>7</td>\n",
       "    </tr>\n",
       "    <tr>\n",
       "      <th>5</th>\n",
       "      <td>2000</td>\n",
       "      <td>0</td>\n",
       "      <td>0</td>\n",
       "    </tr>\n",
       "    <tr>\n",
       "      <th>6</th>\n",
       "      <td>'01</td>\n",
       "      <td>0</td>\n",
       "      <td>0</td>\n",
       "    </tr>\n",
       "    <tr>\n",
       "      <th>7</th>\n",
       "      <td>'02</td>\n",
       "      <td>0</td>\n",
       "      <td>0</td>\n",
       "    </tr>\n",
       "    <tr>\n",
       "      <th>8</th>\n",
       "      <td>'03</td>\n",
       "      <td>0</td>\n",
       "      <td>0</td>\n",
       "    </tr>\n",
       "    <tr>\n",
       "      <th>9</th>\n",
       "      <td>'04</td>\n",
       "      <td>2004</td>\n",
       "      <td>1</td>\n",
       "    </tr>\n",
       "    <tr>\n",
       "      <th>10</th>\n",
       "      <td>'05</td>\n",
       "      <td>2005</td>\n",
       "      <td>3</td>\n",
       "    </tr>\n",
       "    <tr>\n",
       "      <th>11</th>\n",
       "      <td>'06</td>\n",
       "      <td>2006</td>\n",
       "      <td>3</td>\n",
       "    </tr>\n",
       "    <tr>\n",
       "      <th>12</th>\n",
       "      <td>'07</td>\n",
       "      <td>2007</td>\n",
       "      <td>1</td>\n",
       "    </tr>\n",
       "    <tr>\n",
       "      <th>13</th>\n",
       "      <td>'08</td>\n",
       "      <td>2008</td>\n",
       "      <td>3</td>\n",
       "    </tr>\n",
       "    <tr>\n",
       "      <th>14</th>\n",
       "      <td>'09</td>\n",
       "      <td>2009</td>\n",
       "      <td>1</td>\n",
       "    </tr>\n",
       "    <tr>\n",
       "      <th>15</th>\n",
       "      <td>'10</td>\n",
       "      <td>2010</td>\n",
       "      <td>2</td>\n",
       "    </tr>\n",
       "    <tr>\n",
       "      <th>16</th>\n",
       "      <td>'11</td>\n",
       "      <td>2011</td>\n",
       "      <td>3</td>\n",
       "    </tr>\n",
       "    <tr>\n",
       "      <th>17</th>\n",
       "      <td>'12</td>\n",
       "      <td>2012</td>\n",
       "      <td>6</td>\n",
       "    </tr>\n",
       "    <tr>\n",
       "      <th>18</th>\n",
       "      <td>2013+</td>\n",
       "      <td>2013</td>\n",
       "      <td>1</td>\n",
       "    </tr>\n",
       "  </tbody>\n",
       "</table>\n",
       "</div>"
      ],
      "text/plain": [
       "         Decade   Year  Titles\n",
       "0   before 1959      0       0\n",
       "1         1960s   1968       1\n",
       "2         1970s  13831      14\n",
       "3         1980s   7939       5\n",
       "4         1990s   7985       7\n",
       "5          2000      0       0\n",
       "6           '01      0       0\n",
       "7           '02      0       0\n",
       "8           '03      0       0\n",
       "9           '04   2004       1\n",
       "10          '05   2005       3\n",
       "11          '06   2006       3\n",
       "12          '07   2007       1\n",
       "13          '08   2008       3\n",
       "14          '09   2009       1\n",
       "15          '10   2010       2\n",
       "16          '11   2011       3\n",
       "17          '12   2012       6\n",
       "18        2013+   2013       1"
      ]
     },
     "execution_count": 14,
     "metadata": {},
     "output_type": "execute_result"
    }
   ],
   "source": [
    "year_df[\"Decade\"] = pd.cut(year_df[\"Year\"],bins,labels=bin_labels)\n",
    "movies_by_year = year_df.groupby(year_df[\"Decade\"],as_index=False).sum()\n",
    "movies_by_year"
   ]
  },
  {
   "cell_type": "code",
   "execution_count": 15,
   "metadata": {},
   "outputs": [],
   "source": [
    "decades = list(movies_by_year[\"Decade\"])\n",
    "counts = list(movies_by_year[\"Titles\"])\n",
    "#print(len(decades))"
   ]
  },
  {
   "cell_type": "code",
   "execution_count": 16,
   "metadata": {},
   "outputs": [],
   "source": [
    "labels = decades[1:5] + decades[9:19]\n",
    "sizes = counts[1:5] + counts[9:19]\n",
    "#print(len(labels))\n",
    "#print(len(sizes))"
   ]
  },
  {
   "cell_type": "code",
   "execution_count": 17,
   "metadata": {},
   "outputs": [
    {
     "data": {
      "text/plain": [
       "Text(1.5,0.95,'Note:\\n2004-2012 correspond with the 10 years of highest Big Foot sightings\\n(2000-2001, 2003-2009, and 2012).')"
      ]
     },
     "execution_count": 17,
     "metadata": {},
     "output_type": "execute_result"
    },
    {
     "data": {
      "image/png": "[encoded data removed]",
      "text/plain": [
       "<Figure size 432x288 with 1 Axes>"
      ]
     },
     "metadata": {},
     "output_type": "display_data"
    }
   ],
   "source": [
    "colors = [\"darkblue\", \"yellow\", \"lightskyblue\",\"purple\",\"red\",\"pink\",\"red\",\"pink\",\"red\",\"pink\",\"red\",\"pink\",\"red\",\"yellowgreen\"]\n",
    "explode = (0, 0, 0, 0, 0.1, 0.1, 0.1, 0.1, 0.1, 0.1, 0.1, 0.1,0.1, 0)\n",
    "plt.pie(sizes, labels=labels, colors=colors,labeldistance=1.1,explode = explode)\n",
    "plt.axis('equal')\n",
    "plt.title(\"Count of top grossing films and TV shows, having plots about \\\"Big Foot\\\", by decade\",y=1.08)\n",
    "textstr = (\"Note:\\n2004-2012 correspond with the 10 years of highest Big Foot sightings\\n(2000-2001, 2003-2009, and 2012).\")\n",
    "props = dict(boxstyle='round', facecolor='white', alpha=0.5)\n",
    "plt.text(1.5, 0.95, textstr, fontsize=11,verticalalignment='center', bbox=props)"
   ]
  },
  {
   "cell_type": "code",
   "execution_count": 18,
   "metadata": {},
   "outputs": [],
   "source": [
    "recent_counts = counts[5:18]\n",
    "recent_years = decades[5:18]"
   ]
  },
  {
   "cell_type": "code",
   "execution_count": 19,
   "metadata": {},
   "outputs": [
    {
     "data": {
      "image/png": "[encoded data removed]",
      "text/plain": [
       "<Figure size 432x288 with 1 Axes>"
      ]
     },
     "metadata": {},
     "output_type": "display_data"
    }
   ],
   "source": [
    "plt.bar(recent_years,recent_counts,align=\"center\")\n",
    "plt.title(\"Count of top grossing films and TV Shows, having plots about \\\"Big Foot\\\", by year\",y = 1.08)\n",
    "plt.xlabel(\"Years\")\n",
    "plt.ylabel(\"Number of movies/shows\")\n",
    "plt.show()"
   ]
  },
  {
   "cell_type": "code",
   "execution_count": 20,
   "metadata": {},
   "outputs": [
    {
     "data": {
      "text/plain": [
       "Text(14,0.95,'Note:\\n2002, 2010 and 2011 were not in the top 10 years for\\nBig Foot sightings, and so no data was included here.')"
      ]
     },
     "execution_count": 20,
     "metadata": {},
     "output_type": "execute_result"
    },
    {
     "data": {
      "image/png": "[encoded data removed]",
      "text/plain": [
       "<Figure size 432x288 with 1 Axes>"
      ]
     },
     "metadata": {},
     "output_type": "display_data"
    }
   ],
   "source": [
    "ufo_sightings = [14.5,13.5,0,15.4,25.0,22.6,18.9,17.0,14.5,12.3,0,0,13.2]\n",
    "plt.title(\"Big Foot Sightings by Year (Top 10)\",y = 1.08)\n",
    "plt.xlabel(\"Years\")\n",
    "plt.ylabel(\"Sightings (x10)\")\n",
    "plt.bar(recent_years,ufo_sightings,color=\"yellow\",align=\"center\")\n",
    "textstr = (\"Note:\\n2002, 2010 and 2011 were not in the top 10 years for\\nBig Foot sightings, and so no data was included here.\")\n",
    "props = dict(boxstyle='round', facecolor='white', alpha=0.5)\n",
    "plt.text(14, 0.95, textstr, fontsize=11,verticalalignment='center', bbox=props)"
   ]
  }
 ],
 "metadata": {
  "kernelspec": {
   "display_name": "Python 3",
   "language": "python",
   "name": "python3"
  },
  "language_info": {
   "codemirror_mode": {
    "name": "ipython",
    "version": 3
   },
   "file_extension": ".py",
   "mimetype": "text/x-python",
   "name": "python",
   "nbconvert_exporter": "python",
   "pygments_lexer": "ipython3",
   "version": "3.6.4"
  }
 },
 "nbformat": 4,
 "nbformat_minor": 2
}
