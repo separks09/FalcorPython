{
 "cells": [
  {
   "cell_type": "code",
   "execution_count": 27,
   "metadata": {},
   "outputs": [],
   "source": [
    "%matplotlib inline\n",
    "import pandas as pd\n",
    "import json\n",
    "import requests\n",
    "import matplotlib.pyplot as plt\n",
    "import seaborn as sns\n",
    "import numpy as np\n",
    "from config import api_key"
   ]
  },
  {
   "cell_type": "code",
   "execution_count": 2,
   "metadata": {},
   "outputs": [],
   "source": [
    "titles = []\n",
    "release_dates = []\n",
    "overview = []\n",
    "\n",
    "for x in range(32):\n",
    "    url = \"https://api.themoviedb.org/3/discover/movie?&sort_by=revenue.desc&api_key=\"+api_key+\"&page=\"+str(x+1)+\"&with_keywords=9738|9951\"\n",
    "    response = requests.get(url)\n",
    "    data = response.json() \n",
    "    for y in range(len(data[\"results\"])):\n",
    "        titles.append(data[\"results\"][y][\"title\"])\n",
    "        release_dates.append(data[\"results\"][y][\"release_date\"])\n",
    "        overview.append(data[\"results\"][y][\"overview\"])"
   ]
  },
  {
   "cell_type": "code",
   "execution_count": 28,
   "metadata": {},
   "outputs": [],
   "source": [
    "#print(len(titles))"
   ]
  },
  {
   "cell_type": "code",
   "execution_count": 4,
   "metadata": {},
   "outputs": [],
   "source": [
    "years = []\n",
    "months = []\n",
    "for x in range(len(release_dates)):\n",
    "    try:\n",
    "        y = release_dates[x]\n",
    "        year = y.split(\"-\")[0]\n",
    "        month = y.split(\"-\")[1]\n",
    "        years.append(year)\n",
    "        months.append(month)\n",
    "    except:\n",
    "        years.append(\"\")\n",
    "        months.append(\"\")"
   ]
  },
  {
   "cell_type": "code",
   "execution_count": 5,
   "metadata": {},
   "outputs": [
    {
     "data": {
      "text/html": [
       "<div>\n",
       "<style scoped>\n",
       "    .dataframe tbody tr th:only-of-type {\n",
       "        vertical-align: middle;\n",
       "    }\n",
       "\n",
       "    .dataframe tbody tr th {\n",
       "        vertical-align: top;\n",
       "    }\n",
       "\n",
       "    .dataframe thead th {\n",
       "        text-align: right;\n",
       "    }\n",
       "</style>\n",
       "<table border=\"1\" class=\"dataframe\">\n",
       "  <thead>\n",
       "    <tr style=\"text-align: right;\">\n",
       "      <th></th>\n",
       "      <th>Month</th>\n",
       "      <th>Overview</th>\n",
       "      <th>Titles</th>\n",
       "      <th>Year</th>\n",
       "    </tr>\n",
       "  </thead>\n",
       "  <tbody>\n",
       "    <tr>\n",
       "      <th>0</th>\n",
       "      <td>12</td>\n",
       "      <td>In the 22nd century, a paraplegic Marine is di...</td>\n",
       "      <td>Avatar</td>\n",
       "      <td>2009</td>\n",
       "    </tr>\n",
       "    <tr>\n",
       "      <th>1</th>\n",
       "      <td>06</td>\n",
       "      <td>As humanity picks up the pieces, following the...</td>\n",
       "      <td>Transformers: Age of Extinction</td>\n",
       "      <td>2014</td>\n",
       "    </tr>\n",
       "    <tr>\n",
       "      <th>2</th>\n",
       "      <td>04</td>\n",
       "      <td>After a gentle alien becomes stranded on Earth...</td>\n",
       "      <td>E.T. the Extra-Terrestrial</td>\n",
       "      <td>1982</td>\n",
       "    </tr>\n",
       "    <tr>\n",
       "      <th>3</th>\n",
       "      <td>06</td>\n",
       "      <td>Young teenager, Sam Witwicky becomes involved ...</td>\n",
       "      <td>Transformers</td>\n",
       "      <td>2007</td>\n",
       "    </tr>\n",
       "    <tr>\n",
       "      <th>4</th>\n",
       "      <td>05</td>\n",
       "      <td>Agents J (Will Smith) and K (Tommy Lee Jones) ...</td>\n",
       "      <td>Men in Black 3</td>\n",
       "      <td>2012</td>\n",
       "    </tr>\n",
       "  </tbody>\n",
       "</table>\n",
       "</div>"
      ],
      "text/plain": [
       "  Month                                           Overview  \\\n",
       "0    12  In the 22nd century, a paraplegic Marine is di...   \n",
       "1    06  As humanity picks up the pieces, following the...   \n",
       "2    04  After a gentle alien becomes stranded on Earth...   \n",
       "3    06  Young teenager, Sam Witwicky becomes involved ...   \n",
       "4    05  Agents J (Will Smith) and K (Tommy Lee Jones) ...   \n",
       "\n",
       "                            Titles  Year  \n",
       "0                           Avatar  2009  \n",
       "1  Transformers: Age of Extinction  2014  \n",
       "2       E.T. the Extra-Terrestrial  1982  \n",
       "3                     Transformers  2007  \n",
       "4                   Men in Black 3  2012  "
      ]
     },
     "execution_count": 5,
     "metadata": {},
     "output_type": "execute_result"
    }
   ],
   "source": [
    "movie_data = {\n",
    "    \"Titles\":titles,\n",
    "    \"Year\":years,\n",
    "    \"Month\": months,\n",
    "    \"Overview\":overview\n",
    "}\n",
    "\n",
    "movie_df = pd.DataFrame(data=movie_data)\n",
    "movie_df.head()"
   ]
  },
  {
   "cell_type": "code",
   "execution_count": 29,
   "metadata": {},
   "outputs": [],
   "source": [
    "movie_df.to_csv(\"ufo_movies.csv\")"
   ]
  },
  {
   "cell_type": "code",
   "execution_count": 30,
   "metadata": {},
   "outputs": [],
   "source": [
    "year_df = movie_df.groupby(movie_df[\"Year\"],as_index=False)\n",
    "year_df = year_df[\"Titles\"].count()\n",
    "year_df = year_df[year_df.Year != \"\"]\n",
    "year_df[\"Year\"] = year_df[\"Year\"].astype(int)"
   ]
  },
  {
   "cell_type": "code",
   "execution_count": 31,
   "metadata": {},
   "outputs": [],
   "source": [
    "bins = [0,1959,1969,1979,1989,1999,2006,2007,2008,2009,2010,2011,2012,2013,2014,2015,2016,2017,2018]\n",
    "bin_labels = [\"before 1959\",\"1960s\",\"1970s\",\"1980s\",\"1990s\",\"early 2000s\",\"'07\",\"'08\",\"'09\",\"'10\",\"'11\",\"'12\",\"'13\",\"'14\",\"'15\",\"'16\",\"'17\",\"'18\"]\n",
    "#print(len(bins))\n",
    "#print(len(bin_labels))"
   ]
  },
  {
   "cell_type": "code",
   "execution_count": 32,
   "metadata": {},
   "outputs": [
    {
     "data": {
      "text/html": [
       "<div>\n",
       "<style scoped>\n",
       "    .dataframe tbody tr th:only-of-type {\n",
       "        vertical-align: middle;\n",
       "    }\n",
       "\n",
       "    .dataframe tbody tr th {\n",
       "        vertical-align: top;\n",
       "    }\n",
       "\n",
       "    .dataframe thead th {\n",
       "        text-align: right;\n",
       "    }\n",
       "</style>\n",
       "<table border=\"1\" class=\"dataframe\">\n",
       "  <thead>\n",
       "    <tr style=\"text-align: right;\">\n",
       "      <th></th>\n",
       "      <th>Decade</th>\n",
       "      <th>Year</th>\n",
       "      <th>Titles</th>\n",
       "    </tr>\n",
       "  </thead>\n",
       "  <tbody>\n",
       "    <tr>\n",
       "      <th>13</th>\n",
       "      <td>'14</td>\n",
       "      <td>2014</td>\n",
       "      <td>20</td>\n",
       "    </tr>\n",
       "    <tr>\n",
       "      <th>14</th>\n",
       "      <td>'15</td>\n",
       "      <td>2015</td>\n",
       "      <td>37</td>\n",
       "    </tr>\n",
       "    <tr>\n",
       "      <th>15</th>\n",
       "      <td>'16</td>\n",
       "      <td>2016</td>\n",
       "      <td>19</td>\n",
       "    </tr>\n",
       "    <tr>\n",
       "      <th>16</th>\n",
       "      <td>'17</td>\n",
       "      <td>2017</td>\n",
       "      <td>23</td>\n",
       "    </tr>\n",
       "    <tr>\n",
       "      <th>17</th>\n",
       "      <td>'18</td>\n",
       "      <td>2018</td>\n",
       "      <td>2</td>\n",
       "    </tr>\n",
       "  </tbody>\n",
       "</table>\n",
       "</div>"
      ],
      "text/plain": [
       "   Decade  Year  Titles\n",
       "13    '14  2014      20\n",
       "14    '15  2015      37\n",
       "15    '16  2016      19\n",
       "16    '17  2017      23\n",
       "17    '18  2018       2"
      ]
     },
     "execution_count": 32,
     "metadata": {},
     "output_type": "execute_result"
    }
   ],
   "source": [
    "year_df[\"Decade\"] = pd.cut(year_df[\"Year\"],bins,labels=bin_labels)\n",
    "movies_by_year = year_df.groupby(year_df[\"Decade\"],as_index=False).sum()\n",
    "movies_by_year.tail()"
   ]
  },
  {
   "cell_type": "code",
   "execution_count": 33,
   "metadata": {},
   "outputs": [],
   "source": [
    "decades = list(movies_by_year[\"Decade\"])\n",
    "counts = list(movies_by_year[\"Titles\"])\n",
    "#print(len(decades))"
   ]
  },
  {
   "cell_type": "code",
   "execution_count": 39,
   "metadata": {},
   "outputs": [
    {
     "data": {
      "text/plain": [
       "Text(0.5,1.08,'Count of top grossing films, having plots about \"UFOs\" or \"Aliens\", by decade')"
      ]
     },
     "execution_count": 39,
     "metadata": {},
     "output_type": "execute_result"
    },
    {
     "data": {
      "image/png": "[encoded data removed]",
      "text/plain": [
       "<Figure size 432x288 with 1 Axes>"
      ]
     },
     "metadata": {},
     "output_type": "display_data"
    }
   ],
   "source": [
    "# Labels for the sections of our pie chart\n",
    "labels = decades\n",
    "\n",
    "# The values of each section of the pie chart\n",
    "sizes = counts\n",
    "\n",
    "# The colors of each section of the pie chart\n",
    "colors = [\"orange\", \"darkblue\", \"yellow\", \"lightskyblue\",\"purple\",\"pink\",\"red\",\"pink\",\"red\",\"pink\",\"red\",\"pink\",\"red\",\"pink\",\"red\",\"pink\",\"green\",\"white\"]\n",
    "\n",
    "# Tells matplotlib to seperate the \"Python\" section from the others\n",
    "explode = (0, 0, 0, 0, 0, 0, 0.1, 0.1, 0.1, 0.1, 0.1, 0.1, 0.1, 0.1, 0.1, 0.1, 0, 0)\n",
    "\n",
    "plt.pie(sizes, labels=labels, colors=colors,labeldistance=1.1,explode = explode)\n",
    "plt.axis('equal')\n",
    "plt.title(\"Count of top grossing films, having plots about \\\"UFOs\\\" or \\\"Aliens\\\", by decade\",y=1.08)\n"
   ]
  },
  {
   "cell_type": "code",
   "execution_count": 34,
   "metadata": {},
   "outputs": [],
   "source": [
    "recent_counts = counts[6:16]\n",
    "recent_years = decades[6:16]"
   ]
  },
  {
   "cell_type": "code",
   "execution_count": 35,
   "metadata": {},
   "outputs": [
    {
     "data": {
      "image/png": "[encoded data removed]",
      "text/plain": [
       "<Figure size 432x288 with 1 Axes>"
      ]
     },
     "metadata": {},
     "output_type": "display_data"
    }
   ],
   "source": [
    "plt.bar(recent_years,recent_counts,align=\"center\")\n",
    "plt.title(\"Count of top grossing films, having plots about \\\"UFOs\\\" or \\\"Aliens\\\"\",y = 1.08)\n",
    "plt.xlabel(\"Years\")\n",
    "plt.ylabel(\"Number of movies\")\n",
    "plt.show()"
   ]
  },
  {
   "cell_type": "code",
   "execution_count": 36,
   "metadata": {},
   "outputs": [
    {
     "data": {
      "text/plain": [
       "<BarContainer object of 10 artists>"
      ]
     },
     "execution_count": 36,
     "metadata": {},
     "output_type": "execute_result"
    },
    {
     "data": {
      "image/png": "[encoded data removed]",
      "text/plain": [
       "<Figure size 432x288 with 1 Axes>"
      ]
     },
     "metadata": {},
     "output_type": "display_data"
    }
   ],
   "source": [
    "ufo_sightings = [3.605,4.100,3.709,3.694,4.457,6.503,6.317,6.954,5.565,4.552]\n",
    "plt.title(\"UFO Sightings by Year\",y = 1.08)\n",
    "plt.xlabel(\"Years\")\n",
    "plt.ylabel(\"UFO Sightings (x1000)\")\n",
    "plt.bar(recent_years,ufo_sightings,color=\"yellow\",align=\"center\")"
   ]
  }
 ],
 "metadata": {
  "kernelspec": {
   "display_name": "Python 3",
   "language": "python",
   "name": "python3"
  },
  "language_info": {
   "codemirror_mode": {
    "name": "ipython",
    "version": 3
   },
   "file_extension": ".py",
   "mimetype": "text/x-python",
   "name": "python",
   "nbconvert_exporter": "python",
   "pygments_lexer": "ipython3",
   "version": "3.6.4"
  }
 },
 "nbformat": 4,
 "nbformat_minor": 2
}
