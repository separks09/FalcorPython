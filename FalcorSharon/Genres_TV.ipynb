{
 "cells": [
  {
   "cell_type": "code",
   "execution_count": 40,
   "metadata": {},
   "outputs": [],
   "source": [
    "%matplotlib inline\n",
    "import pandas as pd\n",
    "import json\n",
    "import requests\n",
    "import matplotlib.pyplot as plt\n",
    "import seaborn as sns\n",
    "import numpy as np\n",
    "from config import api_key"
   ]
  },
  {
   "cell_type": "code",
   "execution_count": 25,
   "metadata": {},
   "outputs": [],
   "source": [
    "titles = []\n",
    "release_dates = []\n",
    "overview = []\n",
    "\n",
    "for x in range(6):\n",
    "    url = \"https://api.themoviedb.org/3/discover/tv?&api_key=\"+api_key+\"&page=\"+str(x+1)+\"&with_keywords=9738|9951&without_genres=16,35\"\n",
    "    response = requests.get(url)\n",
    "    data = response.json() \n",
    "    for y in range(len(data[\"results\"])):\n",
    "        titles.append(data[\"results\"][y][\"name\"])\n",
    "        release_dates.append(data[\"results\"][y][\"first_air_date\"])\n",
    "        overview.append(data[\"results\"][y][\"overview\"])"
   ]
  },
  {
   "cell_type": "code",
   "execution_count": 41,
   "metadata": {},
   "outputs": [],
   "source": [
    "#print(len(titles))"
   ]
  },
  {
   "cell_type": "code",
   "execution_count": 28,
   "metadata": {},
   "outputs": [],
   "source": [
    "years = []\n",
    "months = []\n",
    "for x in range(len(release_dates)):\n",
    "    try:\n",
    "        y = release_dates[x]\n",
    "        year = y.split(\"-\")[0]\n",
    "        month = y.split(\"-\")[1]\n",
    "        years.append(year)\n",
    "        months.append(month)\n",
    "    except:\n",
    "        years.append(\"\")\n",
    "        months.append(\"\")"
   ]
  },
  {
   "cell_type": "code",
   "execution_count": 29,
   "metadata": {},
   "outputs": [
    {
     "data": {
      "text/html": [
       "<div>\n",
       "<style scoped>\n",
       "    .dataframe tbody tr th:only-of-type {\n",
       "        vertical-align: middle;\n",
       "    }\n",
       "\n",
       "    .dataframe tbody tr th {\n",
       "        vertical-align: top;\n",
       "    }\n",
       "\n",
       "    .dataframe thead th {\n",
       "        text-align: right;\n",
       "    }\n",
       "</style>\n",
       "<table border=\"1\" class=\"dataframe\">\n",
       "  <thead>\n",
       "    <tr style=\"text-align: right;\">\n",
       "      <th></th>\n",
       "      <th>Month</th>\n",
       "      <th>Overview</th>\n",
       "      <th>Titles</th>\n",
       "      <th>Year</th>\n",
       "    </tr>\n",
       "  </thead>\n",
       "  <tbody>\n",
       "    <tr>\n",
       "      <th>0</th>\n",
       "      <td>03</td>\n",
       "      <td>The Doctor looks and seems human. He's handsom...</td>\n",
       "      <td>Doctor Who</td>\n",
       "      <td>2005</td>\n",
       "    </tr>\n",
       "    <tr>\n",
       "      <th>1</th>\n",
       "      <td>09</td>\n",
       "      <td>The exploits of FBI Special Agents Fox Mulder ...</td>\n",
       "      <td>The X-Files</td>\n",
       "      <td>1993</td>\n",
       "    </tr>\n",
       "    <tr>\n",
       "      <th>2</th>\n",
       "      <td>11</td>\n",
       "      <td>The adventures of a Time Lord—a time-travellin...</td>\n",
       "      <td>Doctor Who</td>\n",
       "      <td>1963</td>\n",
       "    </tr>\n",
       "    <tr>\n",
       "      <th>3</th>\n",
       "      <td>09</td>\n",
       "      <td>Star Trek: The Next Generation is an American ...</td>\n",
       "      <td>Star Trek: The Next Generation</td>\n",
       "      <td>1987</td>\n",
       "    </tr>\n",
       "    <tr>\n",
       "      <th>4</th>\n",
       "      <td>09</td>\n",
       "      <td>Space. The Final Frontier. The U.S.S. Enterpri...</td>\n",
       "      <td>Star Trek</td>\n",
       "      <td>1966</td>\n",
       "    </tr>\n",
       "  </tbody>\n",
       "</table>\n",
       "</div>"
      ],
      "text/plain": [
       "  Month                                           Overview  \\\n",
       "0    03  The Doctor looks and seems human. He's handsom...   \n",
       "1    09  The exploits of FBI Special Agents Fox Mulder ...   \n",
       "2    11  The adventures of a Time Lord—a time-travellin...   \n",
       "3    09  Star Trek: The Next Generation is an American ...   \n",
       "4    09  Space. The Final Frontier. The U.S.S. Enterpri...   \n",
       "\n",
       "                           Titles  Year  \n",
       "0                      Doctor Who  2005  \n",
       "1                     The X-Files  1993  \n",
       "2                      Doctor Who  1963  \n",
       "3  Star Trek: The Next Generation  1987  \n",
       "4                       Star Trek  1966  "
      ]
     },
     "execution_count": 29,
     "metadata": {},
     "output_type": "execute_result"
    }
   ],
   "source": [
    "movie_data = {\n",
    "    \"Titles\":titles,\n",
    "    \"Year\":years,\n",
    "    \"Month\": months,\n",
    "    \"Overview\":overview\n",
    "}\n",
    "\n",
    "movie_df = pd.DataFrame(data=movie_data)\n",
    "movie_df.head()"
   ]
  },
  {
   "cell_type": "code",
   "execution_count": 43,
   "metadata": {},
   "outputs": [],
   "source": [
    "movie_df.to_csv(\"ufo_tv.csv\")"
   ]
  },
  {
   "cell_type": "code",
   "execution_count": 30,
   "metadata": {},
   "outputs": [],
   "source": [
    "year_df = movie_df.groupby(movie_df[\"Year\"],as_index=False)\n",
    "year_df = year_df[\"Titles\"].count()\n",
    "year_df = year_df[year_df.Year != \"\"]\n",
    "year_df[\"Year\"] = year_df[\"Year\"].astype(int)"
   ]
  },
  {
   "cell_type": "code",
   "execution_count": 44,
   "metadata": {},
   "outputs": [],
   "source": [
    "bins = [0,1959,1969,1979,1989,1999,2006,2007,2008,2009,2010,2011,2012,2013,2014,2015,2016,2017,2018]\n",
    "bin_labels = [\"before 1959\",\"1960s\",\"1970s\",\"1980s\",\"1990s\",\"early 2000s\",\"'07\",\"'08\",\"'09\",\"'10\",\"'11\",\"'12\",\"'13\",\"'14\",\"'15\",\"'16\",\"'17\",\"'18\"]\n",
    "#print(len(bins))\n",
    "#print(len(bin_labels))"
   ]
  },
  {
   "cell_type": "code",
   "execution_count": 51,
   "metadata": {},
   "outputs": [
    {
     "data": {
      "text/html": [
       "<div>\n",
       "<style scoped>\n",
       "    .dataframe tbody tr th:only-of-type {\n",
       "        vertical-align: middle;\n",
       "    }\n",
       "\n",
       "    .dataframe tbody tr th {\n",
       "        vertical-align: top;\n",
       "    }\n",
       "\n",
       "    .dataframe thead th {\n",
       "        text-align: right;\n",
       "    }\n",
       "</style>\n",
       "<table border=\"1\" class=\"dataframe\">\n",
       "  <thead>\n",
       "    <tr style=\"text-align: right;\">\n",
       "      <th></th>\n",
       "      <th>Decade</th>\n",
       "      <th>Year</th>\n",
       "      <th>Titles</th>\n",
       "    </tr>\n",
       "  </thead>\n",
       "  <tbody>\n",
       "    <tr>\n",
       "      <th>0</th>\n",
       "      <td>before 1959</td>\n",
       "      <td>1955</td>\n",
       "      <td>1</td>\n",
       "    </tr>\n",
       "    <tr>\n",
       "      <th>1</th>\n",
       "      <td>1960s</td>\n",
       "      <td>5896</td>\n",
       "      <td>3</td>\n",
       "    </tr>\n",
       "    <tr>\n",
       "      <th>2</th>\n",
       "      <td>1970s</td>\n",
       "      <td>3948</td>\n",
       "      <td>2</td>\n",
       "    </tr>\n",
       "    <tr>\n",
       "      <th>3</th>\n",
       "      <td>1980s</td>\n",
       "      <td>13893</td>\n",
       "      <td>9</td>\n",
       "    </tr>\n",
       "    <tr>\n",
       "      <th>4</th>\n",
       "      <td>1990s</td>\n",
       "      <td>17955</td>\n",
       "      <td>16</td>\n",
       "    </tr>\n",
       "    <tr>\n",
       "      <th>5</th>\n",
       "      <td>early 2000s</td>\n",
       "      <td>12018</td>\n",
       "      <td>9</td>\n",
       "    </tr>\n",
       "    <tr>\n",
       "      <th>6</th>\n",
       "      <td>'07</td>\n",
       "      <td>2007</td>\n",
       "      <td>1</td>\n",
       "    </tr>\n",
       "    <tr>\n",
       "      <th>7</th>\n",
       "      <td>'08</td>\n",
       "      <td>0</td>\n",
       "      <td>0</td>\n",
       "    </tr>\n",
       "    <tr>\n",
       "      <th>8</th>\n",
       "      <td>'09</td>\n",
       "      <td>2009</td>\n",
       "      <td>2</td>\n",
       "    </tr>\n",
       "    <tr>\n",
       "      <th>9</th>\n",
       "      <td>'10</td>\n",
       "      <td>2010</td>\n",
       "      <td>1</td>\n",
       "    </tr>\n",
       "    <tr>\n",
       "      <th>10</th>\n",
       "      <td>'11</td>\n",
       "      <td>2011</td>\n",
       "      <td>1</td>\n",
       "    </tr>\n",
       "    <tr>\n",
       "      <th>11</th>\n",
       "      <td>'12</td>\n",
       "      <td>2012</td>\n",
       "      <td>2</td>\n",
       "    </tr>\n",
       "    <tr>\n",
       "      <th>12</th>\n",
       "      <td>'13</td>\n",
       "      <td>2013</td>\n",
       "      <td>1</td>\n",
       "    </tr>\n",
       "    <tr>\n",
       "      <th>13</th>\n",
       "      <td>'14</td>\n",
       "      <td>2014</td>\n",
       "      <td>2</td>\n",
       "    </tr>\n",
       "    <tr>\n",
       "      <th>14</th>\n",
       "      <td>'15</td>\n",
       "      <td>2015</td>\n",
       "      <td>2</td>\n",
       "    </tr>\n",
       "    <tr>\n",
       "      <th>15</th>\n",
       "      <td>'16</td>\n",
       "      <td>2016</td>\n",
       "      <td>3</td>\n",
       "    </tr>\n",
       "    <tr>\n",
       "      <th>16</th>\n",
       "      <td>'17</td>\n",
       "      <td>2017</td>\n",
       "      <td>2</td>\n",
       "    </tr>\n",
       "    <tr>\n",
       "      <th>17</th>\n",
       "      <td>'18</td>\n",
       "      <td>0</td>\n",
       "      <td>0</td>\n",
       "    </tr>\n",
       "  </tbody>\n",
       "</table>\n",
       "</div>"
      ],
      "text/plain": [
       "         Decade   Year  Titles\n",
       "0   before 1959   1955       1\n",
       "1         1960s   5896       3\n",
       "2         1970s   3948       2\n",
       "3         1980s  13893       9\n",
       "4         1990s  17955      16\n",
       "5   early 2000s  12018       9\n",
       "6           '07   2007       1\n",
       "7           '08      0       0\n",
       "8           '09   2009       2\n",
       "9           '10   2010       1\n",
       "10          '11   2011       1\n",
       "11          '12   2012       2\n",
       "12          '13   2013       1\n",
       "13          '14   2014       2\n",
       "14          '15   2015       2\n",
       "15          '16   2016       3\n",
       "16          '17   2017       2\n",
       "17          '18      0       0"
      ]
     },
     "execution_count": 51,
     "metadata": {},
     "output_type": "execute_result"
    }
   ],
   "source": [
    "year_df[\"Decade\"] = pd.cut(year_df[\"Year\"],bins,labels=bin_labels)\n",
    "movies_by_year = year_df.groupby(year_df[\"Decade\"],as_index=False).sum()\n",
    "movies_by_year"
   ]
  },
  {
   "cell_type": "code",
   "execution_count": 46,
   "metadata": {},
   "outputs": [],
   "source": [
    "decades = list(movies_by_year[\"Decade\"])\n",
    "counts = list(movies_by_year[\"Titles\"])\n",
    "#print(len(decades))"
   ]
  },
  {
   "cell_type": "code",
   "execution_count": 61,
   "metadata": {},
   "outputs": [],
   "source": [
    "labels = decades[0:6]+decades[8:16]\n",
    "sizes = counts[0:6]+counts[8:16]\n",
    "#print(len(labels))\n",
    "#print(len(sizes))"
   ]
  },
  {
   "cell_type": "code",
   "execution_count": 60,
   "metadata": {},
   "outputs": [
    {
     "data": {
      "text/plain": [
       "Text(0.5,1.08,'Count of top grossing films, having plots about \"UFOs\" or \"Aliens\", by decade')"
      ]
     },
     "execution_count": 60,
     "metadata": {},
     "output_type": "execute_result"
    },
    {
     "data": {
      "image/png": "[encoded data removed]",
      "text/plain": [
       "<Figure size 432x288 with 1 Axes>"
      ]
     },
     "metadata": {},
     "output_type": "display_data"
    }
   ],
   "source": [
    "# The colors of each section of the pie chart\n",
    "colors = [\"yellowgreen\", \"darkblue\", \"yellow\", \"lightskyblue\",\"purple\",\"pink\",\"red\",\"pink\",\"red\",\"pink\",\"red\",\"pink\",\"red\",\"pink\",\"red\"]\n",
    "\n",
    "# Tells matplotlib to seperate the \"Python\" section from the others\n",
    "explode = (0, 0, 0, 0, 0, 0, 0.1, 0.1, 0.1, 0.1, 0.1, 0.1, 0.1, 0.1)\n",
    "\n",
    "plt.pie(sizes, labels=labels, colors=colors,labeldistance=1.2,explode = explode)\n",
    "plt.axis('equal')\n",
    "plt.title(\"Count of top grossing films, having plots about \\\"UFOs\\\" or \\\"Aliens\\\", by decade\",y=1.08)"
   ]
  },
  {
   "cell_type": "code",
   "execution_count": 47,
   "metadata": {},
   "outputs": [],
   "source": [
    "recent_counts = counts[6:16]\n",
    "recent_years = decades[6:16]"
   ]
  },
  {
   "cell_type": "code",
   "execution_count": 48,
   "metadata": {},
   "outputs": [
    {
     "data": {
      "image/png": "[encoded data removed]",
      "text/plain": [
       "<Figure size 432x288 with 1 Axes>"
      ]
     },
     "metadata": {},
     "output_type": "display_data"
    }
   ],
   "source": [
    "plt.bar(recent_years,recent_counts,align=\"center\",color='r')\n",
    "plt.title(\"Count of new TV shows, having plots about \\\"UFOs\\\" or \\\"Aliens\\\"\",y = 1.08)\n",
    "plt.xlabel(\"Years\")\n",
    "plt.ylabel(\"Number of TV shows\")\n",
    "plt.show()"
   ]
  },
  {
   "cell_type": "code",
   "execution_count": 62,
   "metadata": {},
   "outputs": [
    {
     "data": {
      "text/plain": [
       "<BarContainer object of 10 artists>"
      ]
     },
     "execution_count": 62,
     "metadata": {},
     "output_type": "execute_result"
    },
    {
     "data": {
      "image/png": "[encoded data removed]",
      "text/plain": [
       "<Figure size 432x288 with 1 Axes>"
      ]
     },
     "metadata": {},
     "output_type": "display_data"
    }
   ],
   "source": [
    "ufo_sightings = [3.605,4.100,3.709,3.694,4.457,6.503,6.317,6.954,5.565,4.552]\n",
    "plt.title(\"UFO Sightings by Year (Top 10)\",y = 1.08)\n",
    "plt.xlabel(\"Years\")\n",
    "plt.ylabel(\"UFO Sightings (x1000)\")\n",
    "plt.bar(recent_years,ufo_sightings,color=\"yellow\",align=\"center\")"
   ]
  }
 ],
 "metadata": {
  "kernelspec": {
   "display_name": "Python 3",
   "language": "python",
   "name": "python3"
  },
  "language_info": {
   "codemirror_mode": {
    "name": "ipython",
    "version": 3
   },
   "file_extension": ".py",
   "mimetype": "text/x-python",
   "name": "python",
   "nbconvert_exporter": "python",
   "pygments_lexer": "ipython3",
   "version": "3.6.4"
  }
 },
 "nbformat": 4,
 "nbformat_minor": 2
}
